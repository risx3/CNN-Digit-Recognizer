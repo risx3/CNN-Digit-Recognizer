{
 "cells": [
  {
   "cell_type": "markdown",
   "execution_count": null,
   "metadata": {
    "papermill": {
     "duration": 0.009053,
     "end_time": "2020-08-10T14:44:06.860781",
     "exception": false,
     "start_time": "2020-08-10T14:44:06.851728",
     "status": "completed"
    },
    "tags": []
   },
   "source": [
    "## Overview\n",
    "MNIST (“Modified National Institute of Standards and Technology”) is the de facto “hello world” dataset of computer vision. Since its release in 1999, this classic dataset of handwritten images has served as the basis for benchmarking classification algorithms. As new machine learning techniques emerge, MNIST remains a reliable resource for researchers and learners alike.\n",
    "In this project, our goal is to correctly identify digits from a dataset of tens of thousands of handwritten images."
   ]
  },
  {
   "cell_type": "markdown",
   "execution_count": null,
   "metadata": {
    "papermill": {
     "duration": 0.007209,
     "end_time": "2020-08-10T14:44:06.875549",
     "exception": false,
     "start_time": "2020-08-10T14:44:06.868340",
     "status": "completed"
    },
    "tags": []
   },
   "source": [
    "## Data Description\n",
    "The data files train.csv and test.csv contain gray-scale images of hand-drawn digits, from zero through nine.\n",
    "\n",
    "Each image is 28 pixels in height and 28 pixels in width, for a total of 784 pixels in total. Each pixel has a single pixel-value associated with it, indicating the lightness or darkness of that pixel, with higher numbers meaning darker. This pixel-value is an integer between 0 and 255, inclusive.\n",
    "\n",
    "The training data set, (train.csv), has 785 columns. The first column, called “label”, is the digit that was drawn by the user. The rest of the columns contain the pixel-values of the associated image.\n",
    "\n",
    "Each pixel column in the training set has a name like pixelx, where x is an integer between 0 and 783, inclusive. To locate this pixel on the image, suppose that we have decomposed x as x = i * 28 + j, where i and j are integers between 0 and 27, inclusive. Then pixelx is located on row i and column j of a 28 x 28 matrix, (indexing by zero).\n",
    "\n",
    "For example, pixel31 indicates the pixel that is in the fourth column from the left, and the second row from the top, as in the ascii-diagram below.\n",
    "\n",
    "Visually, if we omit the “pixel” prefix, the pixels make up the image like this:\n",
    "\n",
    "000 001 002 003 … 026 027<br>\n",
    "028 029 030 031 … 054 055<br>\n",
    "056 057 058 059 … 082 083<br>\n",
    "| | | | … | |<br>\n",
    "728 729 730 731 … 754 755<br>\n",
    "756 757 758 759 … 782 783<br>\n",
    "\n",
    "The test data set, (test.csv), is the same as the training set, except that it does not contain the “label” column.\n",
    "\n",
    "Your submission file should be in the following format: For each of the 28000 images in the test set, output a single line containing the ImageId and the digit you predict. For example, if you predict that the first image is of a 3, the second image is of a 7, and the third image is of a 8, then your submission file would look like:\n",
    "\n",
    "ImageId,Label\n",
    "1,3\n",
    "2,7\n",
    "3,8\n",
    "(27997 more lines)\n",
    "\n",
    "The evaluation metric for this contest is the categorization accuracy, or the proportion of test images that are correctly classified. For example, a categorization accuracy of 0.97 indicates that you have correctly classified all but 3% of the images.\n",
    "\n",
    "You can find the dataset here."
   ]
  },
  {
   "cell_type": "markdown",
   "execution_count": null,
   "metadata": {
    "papermill": {
     "duration": 0.006901,
     "end_time": "2020-08-10T14:44:06.889945",
     "exception": false,
     "start_time": "2020-08-10T14:44:06.883044",
     "status": "completed"
    },
    "tags": []
   },
   "source": [
    "## Files\n",
    "* test.csv\n",
    "* train.csv"
   ]
  },
  {
   "cell_type": "code",
   "execution_count": 1,
   "metadata": {
    "_cell_guid": "b1076dfc-b9ad-4769-8c92-a6c4dae69d19",
    "_uuid": "8f2839f25d086af736a60e9eeb907d3b93b6e0e5",
    "execution": {
     "iopub.execute_input": "2020-08-10T14:44:06.911332Z",
     "iopub.status.busy": "2020-08-10T14:44:06.910448Z",
     "iopub.status.idle": "2020-08-10T14:44:07.943323Z",
     "shell.execute_reply": "2020-08-10T14:44:07.942660Z"
    },
    "papermill": {
     "duration": 1.045079,
     "end_time": "2020-08-10T14:44:07.943461",
     "exception": false,
     "start_time": "2020-08-10T14:44:06.898382",
     "status": "completed"
    },
    "tags": []
   },
   "outputs": [],
   "source": [
    "import numpy as np\n",
    "import pandas as pd\n",
    "import matplotlib.pyplot as plt\n",
    "import seaborn as sns"
   ]
  },
  {
   "cell_type": "markdown",
   "execution_count": null,
   "metadata": {
    "papermill": {
     "duration": 0.007389,
     "end_time": "2020-08-10T14:44:07.958549",
     "exception": false,
     "start_time": "2020-08-10T14:44:07.951160",
     "status": "completed"
    },
    "tags": []
   },
   "source": [
    "## Load Data\n",
    "\n",
    "Data input train and test data"
   ]
  },
  {
   "cell_type": "code",
   "execution_count": 2,
   "metadata": {
    "execution": {
     "iopub.execute_input": "2020-08-10T14:44:07.979074Z",
     "iopub.status.busy": "2020-08-10T14:44:07.978107Z",
     "iopub.status.idle": "2020-08-10T14:44:13.080228Z",
     "shell.execute_reply": "2020-08-10T14:44:13.080856Z"
    },
    "papermill": {
     "duration": 5.11508,
     "end_time": "2020-08-10T14:44:13.081082",
     "exception": false,
     "start_time": "2020-08-10T14:44:07.966002",
     "status": "completed"
    },
    "tags": []
   },
   "outputs": [],
   "source": [
    "train_data = pd.read_csv(\"/kaggle/input/digit-recognizer/train.csv\")\n",
    "test_data = pd.read_csv(\"/kaggle/input/digit-recognizer/test.csv\")"
   ]
  },
  {
   "cell_type": "markdown",
   "execution_count": null,
   "metadata": {
    "papermill": {
     "duration": 0.011307,
     "end_time": "2020-08-10T14:44:13.103261",
     "exception": false,
     "start_time": "2020-08-10T14:44:13.091954",
     "status": "completed"
    },
    "tags": []
   },
   "source": [
    "## Data Exploration"
   ]
  },
  {
   "cell_type": "code",
   "execution_count": 3,
   "metadata": {
    "execution": {
     "iopub.execute_input": "2020-08-10T14:44:13.139179Z",
     "iopub.status.busy": "2020-08-10T14:44:13.135163Z",
     "iopub.status.idle": "2020-08-10T14:44:13.496568Z",
     "shell.execute_reply": "2020-08-10T14:44:13.495982Z"
    },
    "papermill": {
     "duration": 0.383069,
     "end_time": "2020-08-10T14:44:13.496697",
     "exception": false,
     "start_time": "2020-08-10T14:44:13.113628",
     "status": "completed"
    },
    "tags": []
   },
   "outputs": [
    {
     "data": {
      "text/plain": [
       "<matplotlib.axes._subplots.AxesSubplot at 0x7f953bd43890>"
      ]
     },
     "execution_count": 3,
     "metadata": {},
     "output_type": "execute_result"
    },
    {
     "data": {
      "image/png": "[encoded data removed]",
      "text/plain": [
       "<Figure size 432x288 with 1 Axes>"
      ]
     },
     "metadata": {
      "needs_background": "light"
     },
     "output_type": "display_data"
    }
   ],
   "source": [
    "sns.countplot(train_data['label'])"
   ]
  },
  {
   "cell_type": "markdown",
   "execution_count": null,
   "metadata": {
    "papermill": {
     "duration": 0.009323,
     "end_time": "2020-08-10T14:44:13.514675",
     "exception": false,
     "start_time": "2020-08-10T14:44:13.505352",
     "status": "completed"
    },
    "tags": []
   },
   "source": [
    "## Show Train Image"
   ]
  },
  {
   "cell_type": "code",
   "execution_count": 4,
   "metadata": {
    "execution": {
     "iopub.execute_input": "2020-08-10T14:44:13.540422Z",
     "iopub.status.busy": "2020-08-10T14:44:13.538988Z",
     "iopub.status.idle": "2020-08-10T14:44:13.542827Z",
     "shell.execute_reply": "2020-08-10T14:44:13.542206Z"
    },
    "papermill": {
     "duration": 0.020044,
     "end_time": "2020-08-10T14:44:13.542960",
     "exception": false,
     "start_time": "2020-08-10T14:44:13.522916",
     "status": "completed"
    },
    "tags": []
   },
   "outputs": [],
   "source": [
    "def show_image(train_image, label, index):\n",
    "    image_shaped = train_image.values.reshape(28,28)\n",
    "    plt.subplot(3, 6, index+1)\n",
    "    plt.imshow(image_shaped, cmap=plt.cm.gray)\n",
    "    plt.title(label)"
   ]
  },
  {
   "cell_type": "code",
   "execution_count": 5,
   "metadata": {
    "execution": {
     "iopub.execute_input": "2020-08-10T14:44:13.573188Z",
     "iopub.status.busy": "2020-08-10T14:44:13.572065Z",
     "iopub.status.idle": "2020-08-10T14:44:16.421307Z",
     "shell.execute_reply": "2020-08-10T14:44:16.420366Z"
    },
    "papermill": {
     "duration": 2.869126,
     "end_time": "2020-08-10T14:44:16.421449",
     "exception": false,
     "start_time": "2020-08-10T14:44:13.552323",
     "status": "completed"
    },
    "tags": []
   },
   "outputs": [
    {
     "data": {
      "image/png": "[encoded data removed]",
      "text/plain": [
       "<Figure size 1296x576 with 18 Axes>"
      ]
     },
     "metadata": {
      "needs_background": "light"
     },
     "output_type": "display_data"
    }
   ],
   "source": [
    "plt.figure(figsize=(18, 8))\n",
    "sample_image = train_data.sample(18).reset_index(drop=True)\n",
    "for index, row in sample_image.iterrows():\n",
    "    label = row['label']\n",
    "    image_pixels = row.drop('label')\n",
    "    show_image(image_pixels, label, index)\n",
    "plt.tight_layout()"
   ]
  },
  {
   "cell_type": "markdown",
   "execution_count": null,
   "metadata": {
    "papermill": {
     "duration": 0.008611,
     "end_time": "2020-08-10T14:44:16.439251",
     "exception": false,
     "start_time": "2020-08-10T14:44:16.430640",
     "status": "completed"
    },
    "tags": []
   },
   "source": [
    "## Pre-process Data"
   ]
  },
  {
   "cell_type": "code",
   "execution_count": 6,
   "metadata": {
    "execution": {
     "iopub.execute_input": "2020-08-10T14:44:16.462050Z",
     "iopub.status.busy": "2020-08-10T14:44:16.461391Z",
     "iopub.status.idle": "2020-08-10T14:44:22.205056Z",
     "shell.execute_reply": "2020-08-10T14:44:22.204423Z"
    },
    "papermill": {
     "duration": 5.756946,
     "end_time": "2020-08-10T14:44:22.205183",
     "exception": false,
     "start_time": "2020-08-10T14:44:16.448237",
     "status": "completed"
    },
    "tags": []
   },
   "outputs": [],
   "source": [
    "from sklearn.model_selection import train_test_split\n",
    "from keras.utils import to_categorical\n",
    "from keras.preprocessing.image import ImageDataGenerator\n",
    "from keras.models import Sequential\n",
    "from keras.layers import Dense, Conv2D, Flatten, MaxPooling2D\n"
   ]
  },
  {
   "cell_type": "markdown",
   "execution_count": null,
   "metadata": {
    "papermill": {
     "duration": 0.007998,
     "end_time": "2020-08-10T14:44:22.222246",
     "exception": false,
     "start_time": "2020-08-10T14:44:22.214248",
     "status": "completed"
    },
    "tags": []
   },
   "source": [
    "We split data for test and train"
   ]
  },
  {
   "cell_type": "code",
   "execution_count": 7,
   "metadata": {
    "execution": {
     "iopub.execute_input": "2020-08-10T14:44:22.330403Z",
     "iopub.status.busy": "2020-08-10T14:44:22.329365Z",
     "iopub.status.idle": "2020-08-10T14:44:22.715865Z",
     "shell.execute_reply": "2020-08-10T14:44:22.715241Z"
    },
    "papermill": {
     "duration": 0.485244,
     "end_time": "2020-08-10T14:44:22.715994",
     "exception": false,
     "start_time": "2020-08-10T14:44:22.230750",
     "status": "completed"
    },
    "tags": []
   },
   "outputs": [],
   "source": [
    "x = train_data.drop(columns=['label']).values.reshape(train_data.shape[0],28,28,1)\n",
    "y = to_categorical(train_data['label'])\n",
    "x_train, x_test, y_train, y_test = train_test_split(x, y, test_size=0.1)"
   ]
  },
  {
   "cell_type": "code",
   "execution_count": 8,
   "metadata": {
    "execution": {
     "iopub.execute_input": "2020-08-10T14:44:22.739598Z",
     "iopub.status.busy": "2020-08-10T14:44:22.738567Z",
     "iopub.status.idle": "2020-08-10T14:44:22.850629Z",
     "shell.execute_reply": "2020-08-10T14:44:22.850099Z"
    },
    "papermill": {
     "duration": 0.126027,
     "end_time": "2020-08-10T14:44:22.850747",
     "exception": false,
     "start_time": "2020-08-10T14:44:22.724720",
     "status": "completed"
    },
    "tags": []
   },
   "outputs": [],
   "source": [
    "train_datagen = ImageDataGenerator(\n",
    "    rotation_range=10, # randomly rotate images in the range (degrees, 0 to 180)\n",
    "    rescale=1./255,\n",
    "    shear_range=0.1,\n",
    "    zoom_range=0.1, # Randomly zoom image\n",
    "    width_shift_range=0.1, # randomly shift images horizontally (fraction of total width)\n",
    "    height_shift_range=0.1 # randomly shift images vertically (fraction of total height)\n",
    ")\n",
    "train_datagen.fit(x_train)"
   ]
  },
  {
   "cell_type": "code",
   "execution_count": 9,
   "metadata": {
    "execution": {
     "iopub.execute_input": "2020-08-10T14:44:22.873343Z",
     "iopub.status.busy": "2020-08-10T14:44:22.872339Z",
     "iopub.status.idle": "2020-08-10T14:44:22.927978Z",
     "shell.execute_reply": "2020-08-10T14:44:22.927369Z"
    },
    "papermill": {
     "duration": 0.06838,
     "end_time": "2020-08-10T14:44:22.928091",
     "exception": false,
     "start_time": "2020-08-10T14:44:22.859711",
     "status": "completed"
    },
    "tags": []
   },
   "outputs": [],
   "source": [
    "train_generator = train_datagen.flow(\n",
    "    x_train,\n",
    "    y_train,\n",
    "    batch_size=32\n",
    ")"
   ]
  },
  {
   "cell_type": "code",
   "execution_count": 10,
   "metadata": {
    "execution": {
     "iopub.execute_input": "2020-08-10T14:44:22.951966Z",
     "iopub.status.busy": "2020-08-10T14:44:22.951031Z",
     "iopub.status.idle": "2020-08-10T14:44:22.966328Z",
     "shell.execute_reply": "2020-08-10T14:44:22.965725Z"
    },
    "papermill": {
     "duration": 0.029124,
     "end_time": "2020-08-10T14:44:22.966457",
     "exception": false,
     "start_time": "2020-08-10T14:44:22.937333",
     "status": "completed"
    },
    "tags": []
   },
   "outputs": [],
   "source": [
    "validation_datagen = ImageDataGenerator(rescale=1./255)\n",
    "train_datagen.fit(x_test)\n",
    "validation_generator = validation_datagen.flow(\n",
    "    x_test,\n",
    "    y_test\n",
    ")"
   ]
  },
  {
   "cell_type": "markdown",
   "execution_count": null,
   "metadata": {
    "papermill": {
     "duration": 0.008236,
     "end_time": "2020-08-10T14:44:22.983854",
     "exception": false,
     "start_time": "2020-08-10T14:44:22.975618",
     "status": "completed"
    },
    "tags": []
   },
   "source": [
    "## Define Model"
   ]
  },
  {
   "cell_type": "code",
   "execution_count": 11,
   "metadata": {
    "execution": {
     "iopub.execute_input": "2020-08-10T14:44:23.008631Z",
     "iopub.status.busy": "2020-08-10T14:44:23.007973Z",
     "iopub.status.idle": "2020-08-10T14:44:26.453182Z",
     "shell.execute_reply": "2020-08-10T14:44:26.452298Z"
    },
    "papermill": {
     "duration": 3.461073,
     "end_time": "2020-08-10T14:44:26.453303",
     "exception": false,
     "start_time": "2020-08-10T14:44:22.992230",
     "status": "completed"
    },
    "tags": []
   },
   "outputs": [],
   "source": [
    "model = Sequential()\n",
    "model.add(Conv2D(64, kernel_size=3, activation='relu', input_shape=(28,28,1)))\n",
    "model.add(Conv2D(32, kernel_size=3, activation='relu'))\n",
    "model.add(MaxPooling2D(pool_size=(2, 2)))\n",
    "model.add(Flatten())\n",
    "model.add(Dense(10, activation='softmax'))"
   ]
  },
  {
   "cell_type": "markdown",
   "execution_count": null,
   "metadata": {
    "papermill": {
     "duration": 0.008622,
     "end_time": "2020-08-10T14:44:26.471081",
     "exception": false,
     "start_time": "2020-08-10T14:44:26.462459",
     "status": "completed"
    },
    "tags": []
   },
   "source": [
    "## Compile Model"
   ]
  },
  {
   "cell_type": "code",
   "execution_count": 12,
   "metadata": {
    "execution": {
     "iopub.execute_input": "2020-08-10T14:44:26.501373Z",
     "iopub.status.busy": "2020-08-10T14:44:26.500361Z",
     "iopub.status.idle": "2020-08-10T14:44:26.507670Z",
     "shell.execute_reply": "2020-08-10T14:44:26.507032Z"
    },
    "papermill": {
     "duration": 0.027839,
     "end_time": "2020-08-10T14:44:26.507782",
     "exception": false,
     "start_time": "2020-08-10T14:44:26.479943",
     "status": "completed"
    },
    "tags": []
   },
   "outputs": [],
   "source": [
    "model.compile(optimizer='rmsprop', loss='categorical_crossentropy', metrics=['accuracy'])"
   ]
  },
  {
   "cell_type": "markdown",
   "execution_count": null,
   "metadata": {
    "papermill": {
     "duration": 0.008513,
     "end_time": "2020-08-10T14:44:26.525436",
     "exception": false,
     "start_time": "2020-08-10T14:44:26.516923",
     "status": "completed"
    },
    "tags": []
   },
   "source": [
    "## Fit Model"
   ]
  },
  {
   "cell_type": "code",
   "execution_count": 13,
   "metadata": {
    "execution": {
     "iopub.execute_input": "2020-08-10T14:44:26.548858Z",
     "iopub.status.busy": "2020-08-10T14:44:26.548260Z",
     "iopub.status.idle": "2020-08-10T14:53:14.767478Z",
     "shell.execute_reply": "2020-08-10T14:53:14.765730Z"
    },
    "papermill": {
     "duration": 528.23333,
     "end_time": "2020-08-10T14:53:14.767627",
     "exception": false,
     "start_time": "2020-08-10T14:44:26.534297",
     "status": "completed"
    },
    "tags": []
   },
   "outputs": [
    {
     "name": "stdout",
     "output_type": "stream",
     "text": [
      "Epoch 1/30\n",
      "1181/1181 [==============================] - 17s 14ms/step - loss: 0.3851 - accuracy: 0.8788\n",
      "Epoch 2/30\n",
      "1181/1181 [==============================] - 17s 14ms/step - loss: 0.1685 - accuracy: 0.9494\n",
      "Epoch 3/30\n",
      "1181/1181 [==============================] - 18s 15ms/step - loss: 0.1332 - accuracy: 0.9613\n",
      "Epoch 4/30\n",
      "1181/1181 [==============================] - 17s 14ms/step - loss: 0.1120 - accuracy: 0.9670\n",
      "Epoch 5/30\n",
      "1181/1181 [==============================] - 17s 14ms/step - loss: 0.1048 - accuracy: 0.9683\n",
      "Epoch 6/30\n",
      "1181/1181 [==============================] - 18s 15ms/step - loss: 0.0990 - accuracy: 0.9716\n",
      "Epoch 7/30\n",
      "1181/1181 [==============================] - 17s 14ms/step - loss: 0.0940 - accuracy: 0.9718\n",
      "Epoch 8/30\n",
      "1181/1181 [==============================] - 17s 14ms/step - loss: 0.0901 - accuracy: 0.9739\n",
      "Epoch 9/30\n",
      "1181/1181 [==============================] - 18s 15ms/step - loss: 0.0912 - accuracy: 0.9741\n",
      "Epoch 10/30\n",
      "1181/1181 [==============================] - 18s 15ms/step - loss: 0.0859 - accuracy: 0.9747\n",
      "Epoch 11/30\n",
      "1181/1181 [==============================] - 17s 14ms/step - loss: 0.0857 - accuracy: 0.9747\n",
      "Epoch 12/30\n",
      "1181/1181 [==============================] - 17s 15ms/step - loss: 0.0835 - accuracy: 0.9757\n",
      "Epoch 13/30\n",
      "1181/1181 [==============================] - 18s 15ms/step - loss: 0.0851 - accuracy: 0.9755\n",
      "Epoch 14/30\n",
      "1181/1181 [==============================] - 17s 15ms/step - loss: 0.0834 - accuracy: 0.9766\n",
      "Epoch 15/30\n",
      "1181/1181 [==============================] - 17s 14ms/step - loss: 0.0797 - accuracy: 0.9767\n",
      "Epoch 16/30\n",
      "1181/1181 [==============================] - 18s 15ms/step - loss: 0.0807 - accuracy: 0.9770\n",
      "Epoch 17/30\n",
      "1181/1181 [==============================] - 17s 14ms/step - loss: 0.0808 - accuracy: 0.9768\n",
      "Epoch 18/30\n",
      "1181/1181 [==============================] - 17s 15ms/step - loss: 0.0806 - accuracy: 0.9757\n",
      "Epoch 19/30\n",
      "1181/1181 [==============================] - 17s 14ms/step - loss: 0.0830 - accuracy: 0.9762\n",
      "Epoch 20/30\n",
      "1181/1181 [==============================] - 19s 16ms/step - loss: 0.0830 - accuracy: 0.9760\n",
      "Epoch 21/30\n",
      "1181/1181 [==============================] - 17s 14ms/step - loss: 0.0820 - accuracy: 0.9761\n",
      "Epoch 22/30\n",
      "1181/1181 [==============================] - 17s 14ms/step - loss: 0.0796 - accuracy: 0.9771\n",
      "Epoch 23/30\n",
      "1181/1181 [==============================] - 19s 16ms/step - loss: 0.0812 - accuracy: 0.9763\n",
      "Epoch 24/30\n",
      "1181/1181 [==============================] - 17s 14ms/step - loss: 0.0829 - accuracy: 0.9765\n",
      "Epoch 25/30\n",
      "1181/1181 [==============================] - 17s 15ms/step - loss: 0.0805 - accuracy: 0.9765\n",
      "Epoch 26/30\n",
      "1181/1181 [==============================] - 17s 14ms/step - loss: 0.0812 - accuracy: 0.9762\n",
      "Epoch 27/30\n",
      "1181/1181 [==============================] - 19s 16ms/step - loss: 0.0819 - accuracy: 0.9764\n",
      "Epoch 28/30\n",
      "1181/1181 [==============================] - 17s 15ms/step - loss: 0.0804 - accuracy: 0.9774\n",
      "Epoch 29/30\n",
      "1181/1181 [==============================] - 17s 14ms/step - loss: 0.0814 - accuracy: 0.9772\n",
      "Epoch 30/30\n",
      "1181/1181 [==============================] - 18s 16ms/step - loss: 0.0819 - accuracy: 0.9764\n"
     ]
    },
    {
     "data": {
      "text/plain": [
       "<tensorflow.python.keras.callbacks.History at 0x7f94e1da09d0>"
      ]
     },
     "execution_count": 13,
     "metadata": {},
     "output_type": "execute_result"
    }
   ],
   "source": [
    "model.fit_generator(\n",
    "    train_generator, \n",
    "    steps_per_epoch=len(x_train) // 32, \n",
    "    epochs=30\n",
    ")"
   ]
  },
  {
   "cell_type": "markdown",
   "execution_count": null,
   "metadata": {
    "papermill": {
     "duration": 0.614382,
     "end_time": "2020-08-10T14:53:15.983079",
     "exception": false,
     "start_time": "2020-08-10T14:53:15.368697",
     "status": "completed"
    },
    "tags": []
   },
   "source": [
    "## Evaluate Model"
   ]
  },
  {
   "cell_type": "code",
   "execution_count": 14,
   "metadata": {
    "execution": {
     "iopub.execute_input": "2020-08-10T14:53:17.114085Z",
     "iopub.status.busy": "2020-08-10T14:53:17.112999Z",
     "iopub.status.idle": "2020-08-10T14:53:17.671894Z",
     "shell.execute_reply": "2020-08-10T14:53:17.672830Z"
    },
    "papermill": {
     "duration": 1.135183,
     "end_time": "2020-08-10T14:53:17.673037",
     "exception": false,
     "start_time": "2020-08-10T14:53:16.537854",
     "status": "completed"
    },
    "tags": []
   },
   "outputs": [
    {
     "name": "stdout",
     "output_type": "stream",
     "text": [
      "accuracy: 98.48%\n",
      "loss: 5.26%\n"
     ]
    }
   ],
   "source": [
    "x_test_recaled = (x_test.astype(\"float32\") / 255)\n",
    "scores = model.evaluate(x_test_recaled, y_test, verbose=0)\n",
    "print(\"%s: %.2f%%\" % (model.metrics_names[1], scores[1]*100))\n",
    "print(\"%s: %.2f%%\" % (model.metrics_names[0], scores[0]*100))"
   ]
  },
  {
   "cell_type": "markdown",
   "execution_count": null,
   "metadata": {
    "papermill": {
     "duration": 0.57612,
     "end_time": "2020-08-10T14:53:18.858153",
     "exception": false,
     "start_time": "2020-08-10T14:53:18.282033",
     "status": "completed"
    },
    "tags": []
   },
   "source": [
    "## Prediction"
   ]
  },
  {
   "cell_type": "code",
   "execution_count": 15,
   "metadata": {
    "execution": {
     "iopub.execute_input": "2020-08-10T14:53:20.090969Z",
     "iopub.status.busy": "2020-08-10T14:53:20.089807Z",
     "iopub.status.idle": "2020-08-10T14:53:21.406092Z",
     "shell.execute_reply": "2020-08-10T14:53:21.405430Z"
    },
    "papermill": {
     "duration": 1.907295,
     "end_time": "2020-08-10T14:53:21.406229",
     "exception": false,
     "start_time": "2020-08-10T14:53:19.498934",
     "status": "completed"
    },
    "tags": []
   },
   "outputs": [],
   "source": [
    "test_digit_data = test_data.values.reshape(test_data.shape[0],28,28,1).astype(\"float32\") / 255\n",
    "predictions = model.predict(test_digit_data)\n",
    "results = np.argmax(predictions, axis = 1)"
   ]
  },
  {
   "cell_type": "markdown",
   "execution_count": null,
   "metadata": {
    "papermill": {
     "duration": 0.774363,
     "end_time": "2020-08-10T14:53:22.792769",
     "exception": false,
     "start_time": "2020-08-10T14:53:22.018406",
     "status": "completed"
    },
    "tags": []
   },
   "source": [
    "### Set how is our prediction"
   ]
  },
  {
   "cell_type": "code",
   "execution_count": 16,
   "metadata": {
    "execution": {
     "iopub.execute_input": "2020-08-10T14:53:23.987236Z",
     "iopub.status.busy": "2020-08-10T14:53:23.985480Z",
     "iopub.status.idle": "2020-08-10T14:53:26.779782Z",
     "shell.execute_reply": "2020-08-10T14:53:26.780426Z"
    },
    "papermill": {
     "duration": 3.415514,
     "end_time": "2020-08-10T14:53:26.780583",
     "exception": false,
     "start_time": "2020-08-10T14:53:23.365069",
     "status": "completed"
    },
    "tags": []
   },
   "outputs": [
    {
     "data": {
      "image/png": "[encoded data removed]",
      "text/plain": [
       "<Figure size 1296x576 with 18 Axes>"
      ]
     },
     "metadata": {
      "needs_background": "light"
     },
     "output_type": "display_data"
    }
   ],
   "source": [
    "plt.figure(figsize=(18, 8))\n",
    "sample_test = test_data.head(18)\n",
    "for index, image_pixels in sample_test.iterrows():\n",
    "    label = results[index]\n",
    "    show_image(image_pixels, label, index)\n",
    "plt.tight_layout()"
   ]
  },
  {
   "cell_type": "markdown",
   "execution_count": null,
   "metadata": {
    "papermill": {
     "duration": 0.620489,
     "end_time": "2020-08-10T14:53:27.992025",
     "exception": false,
     "start_time": "2020-08-10T14:53:27.371536",
     "status": "completed"
    },
    "tags": []
   },
   "source": [
    "### Create submission file"
   ]
  },
  {
   "cell_type": "code",
   "execution_count": 17,
   "metadata": {
    "execution": {
     "iopub.execute_input": "2020-08-10T14:53:29.128583Z",
     "iopub.status.busy": "2020-08-10T14:53:29.127947Z",
     "iopub.status.idle": "2020-08-10T14:53:29.260495Z",
     "shell.execute_reply": "2020-08-10T14:53:29.259914Z"
    },
    "papermill": {
     "duration": 0.700842,
     "end_time": "2020-08-10T14:53:29.260603",
     "exception": false,
     "start_time": "2020-08-10T14:53:28.559761",
     "status": "completed"
    },
    "tags": []
   },
   "outputs": [],
   "source": [
    "submissions = pd.read_csv(\"/kaggle/input/digit-recognizer/sample_submission.csv\")\n",
    "submissions['Label'] = results\n",
    "submissions.to_csv('submission.csv', index = False)"
   ]
  }
 ],
 "metadata": {
  "kernelspec": {
   "display_name": "Python 3",
   "language": "python",
   "name": "python3"
  },
  "language_info": {
   "codemirror_mode": {
    "name": "ipython",
    "version": 3
   },
   "file_extension": ".py",
   "mimetype": "text/x-python",
   "name": "python",
   "nbconvert_exporter": "python",
   "pygments_lexer": "ipython3",
   "version": "3.7.6"
  },
  "papermill": {
   "duration": 569.189128,
   "end_time": "2020-08-10T14:53:31.505302",
   "environment_variables": {},
   "exception": null,
   "input_path": "__notebook__.ipynb",
   "output_path": "__notebook__.ipynb",
   "parameters": {},
   "start_time": "2020-08-10T14:44:02.316174",
   "version": "2.1.0"
  }
 },
 "nbformat": 4,
 "nbformat_minor": 4
}
